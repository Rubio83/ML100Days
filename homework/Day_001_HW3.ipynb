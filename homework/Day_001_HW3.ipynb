{
 "cells": [
  {
   "cell_type": "code",
   "execution_count": null,
   "metadata": {},
   "outputs": [],
   "source": [
    "提升業績 & 你的假設 :提升業績的部分可以從服務下手，可以預備小罐瓶裝水或者是乘客上車時主動噓寒問暖，車子保持整潔，安裝空氣清淨機\n",
    "資料從何而來:線上的APP，滿意度評分表\n",
    "蒐集而來的資料型態為何:JSON\n",
    "假設如何驗證:如果是服務好且滿意度評分高的司機，可以從預約叫車的回流客去分析，去評估客戶的再次搭乘意願"
   ]
  }
 ],
 "metadata": {
  "kernelspec": {
   "display_name": "Python 3",
   "language": "python",
   "name": "python3"
  },
  "language_info": {
   "codemirror_mode": {
    "name": "ipython",
    "version": 3
   },
   "file_extension": ".py",
   "mimetype": "text/x-python",
   "name": "python",
   "nbconvert_exporter": "python",
   "pygments_lexer": "ipython3",
   "version": "3.7.4"
  }
 },
 "nbformat": 4,
 "nbformat_minor": 2
}
